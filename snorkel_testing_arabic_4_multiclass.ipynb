{
 "cells": [
  {
   "cell_type": "markdown",
   "metadata": {},
   "source": [
    "Now let's try multilabel classification for:\n",
    " - Yemen crisis - الأزمة_اليمنية\n",
    " - Syria crisis - الأزمة_السورية\n",
    " - Ukraine crisis - الأزمة_الأوكرانية"
   ]
  },
  {
   "cell_type": "markdown",
   "metadata": {},
   "source": [
    "Incomplete - older snorkel documentation/tutorials indicate this might work - see for example https://github.com/HazyResearch/snorkel/blob/master/tutorials/advanced/Categorical_Classes.ipynb\n",
    "\n",
    "and some parts do seem to be working fine, though no current snorkel tutorials offer guidance."
   ]
  },
  {
   "cell_type": "code",
   "execution_count": 1,
   "metadata": {},
   "outputs": [],
   "source": [
    "import numpy as np\n",
    "import matplotlib.pyplot as plt\n",
    "import pandas as pd\n",
    "import re\n",
    "import snorkel\n",
    "\n",
    "%matplotlib inline\n",
    "from IPython.core.pylabtools import figsize"
   ]
  },
  {
   "cell_type": "code",
   "execution_count": 2,
   "metadata": {},
   "outputs": [],
   "source": [
    "media_df = pd.read_csv('/Users/awhite/Documents/snorkel/arabic_news_cleaned.csv')\n",
    "\n",
    "media_df['labels'] = media_df.category\n",
    "\n",
    "media_df.loc[media_df.labels.str.contains(\"اليمنية\") == True, 'labels'] = 1\n",
    "media_df.loc[media_df.labels.str.contains(\"السورية\") == True, 'labels'] = 2\n",
    "media_df.loc[media_df.labels.str.contains(\"وكران\") == True, 'labels'] = 3\n",
    "media_df.loc[media_df.labels.str.contains(\"ا|م\") == True, 'labels'] = 0"
   ]
  },
  {
   "cell_type": "code",
   "execution_count": 3,
   "metadata": {},
   "outputs": [
    {
     "data": {
      "text/plain": [
       "Series([], Name: category, dtype: int64)"
      ]
     },
     "execution_count": 3,
     "metadata": {},
     "output_type": "execute_result"
    }
   ],
   "source": [
    "media_df.category[media_df.labels == 4].value_counts()"
   ]
  },
  {
   "cell_type": "code",
   "execution_count": 4,
   "metadata": {},
   "outputs": [
    {
     "data": {
      "text/plain": [
       "14166"
      ]
     },
     "execution_count": 4,
     "metadata": {},
     "output_type": "execute_result"
    }
   ],
   "source": [
    "from sklearn.model_selection import train_test_split\n",
    "\n",
    "train, test = train_test_split(media_df, test_size = 0.2, random_state = 0)\n",
    "\n",
    "train, valid = train_test_split(train, test_size = 0.2, random_state = 0)\n",
    "train, dev = train_test_split(train, test_size = 0.2, random_state = 0)\n",
    "\n",
    "Y_train = train[\"labels\"].values\n",
    "Y_dev = dev[\"labels\"].values\n",
    "Y_valid = valid[\"labels\"].values\n",
    "Y_test = test[\"labels\"].values\n",
    "\n",
    "len(train)"
   ]
  },
  {
   "cell_type": "code",
   "execution_count": 5,
   "metadata": {},
   "outputs": [],
   "source": [
    "from snorkel.labeling.apply import PandasLFApplier\n",
    "from snorkel.labeling.lf import labeling_function"
   ]
  },
  {
   "cell_type": "code",
   "execution_count": 6,
   "metadata": {},
   "outputs": [
    {
     "data": {
      "text/plain": [
       "17492    بيسكوف ندخر سيله لاسترداد اموالنا كييف متحدث ص...\n",
       "1287     مجموعه اتصال خاصه باوكرانيا تجتمع مينسك تعقد ع...\n",
       "1348     لافروف لنظيره اوكراني وقوف جانبي فيديو اثار تخ...\n",
       "1215     قائد قوات ناتو اوروبا يدعو استئناف اتصالات منت...\n",
       "1388     بوتين هولاند يبحثان اوكرانيا اعلن كرملين رئيس ...\n",
       "Name: text, dtype: object"
      ]
     },
     "execution_count": 6,
     "metadata": {},
     "output_type": "execute_result"
    }
   ],
   "source": [
    "dev.text[dev.labels == 3].head()"
   ]
  },
  {
   "cell_type": "code",
   "execution_count": 7,
   "metadata": {},
   "outputs": [],
   "source": [
    "@labeling_function()\n",
    "def country(x):\n",
    "    if re.search(r\"يمن\",x.text):\n",
    "        return 1\n",
    "    elif re.search(r\"سوري\",x.text):\n",
    "        return 2\n",
    "    elif re.search(r\"وكران\",x.text):\n",
    "        return 3\n",
    "    else:\n",
    "        return 0\n",
    "\n",
    "@labeling_function()\n",
    "def entities(x):\n",
    "    if re.search(r\"هادي|حوثي|صنعاء\",x.text):\n",
    "        return 1\n",
    "    elif re.search(r\"اسد|دمشق|ادلب|حلب\",x.text):\n",
    "        return 2\n",
    "    elif re.search(r\"كييف|زيلينسكي|دونباس\",x.text):\n",
    "        return 3\n",
    "    else:\n",
    "        return -1\n",
    "\n",
    "exclude = r\"كرة القدم|فلم|افلام\"\n",
    "\n",
    "@labeling_function()\n",
    "def misc_exclude(x):\n",
    "    return 0 if re.search(exclude, x.text) else -1"
   ]
  },
  {
   "cell_type": "code",
   "execution_count": 8,
   "metadata": {},
   "outputs": [
    {
     "name": "stderr",
     "output_type": "stream",
     "text": [
      "100%|██████████| 14166/14166 [00:03<00:00, 4165.77it/s]\n",
      "100%|██████████| 3542/3542 [00:00<00:00, 4730.79it/s]\n",
      "100%|██████████| 4428/4428 [00:00<00:00, 4613.79it/s]\n",
      "100%|██████████| 5534/5534 [00:01<00:00, 4689.81it/s]\n"
     ]
    }
   ],
   "source": [
    "lfs = [country, entities, misc_exclude]\n",
    "\n",
    "applier = PandasLFApplier(lfs=lfs)\n",
    "L_train = applier.apply(df=train)\n",
    "L_dev = applier.apply(df=dev)\n",
    "L_valid = applier.apply(df=valid)\n",
    "L_test = applier.apply(df=test)"
   ]
  },
  {
   "cell_type": "code",
   "execution_count": 9,
   "metadata": {},
   "outputs": [],
   "source": [
    "# Commented out because doesn't work for multiclass\n",
    "\n",
    "# from snorkel.labeling.analysis import LFAnalysis\n",
    "\n",
    "# LFAnalysis(L=L_dev, lfs=lfs).lf_summary(Y=Y_dev)"
   ]
  },
  {
   "cell_type": "markdown",
   "metadata": {},
   "source": [
    "Okay -- Let's do some manual testing to be sure this is working."
   ]
  },
  {
   "cell_type": "code",
   "execution_count": 10,
   "metadata": {},
   "outputs": [],
   "source": [
    "L_dev_df = pd.DataFrame(L_dev)\n",
    "Y_dev_df = pd.DataFrame(Y_dev)\n",
    "Y_dev_df = Y_dev_df.rename(columns = {0:'gold'})\n",
    "dev_df = L_dev_df.join(Y_dev_df)"
   ]
  },
  {
   "cell_type": "code",
   "execution_count": 11,
   "metadata": {},
   "outputs": [
    {
     "data": {
      "text/plain": [
       "0  gold\n",
       "0  0       2256\n",
       "   1          7\n",
       "   2          9\n",
       "   3          3\n",
       "1  0        156\n",
       "   1         65\n",
       "   2         16\n",
       "   3          2\n",
       "2  0        357\n",
       "   1          6\n",
       "   2        535\n",
       "   3         14\n",
       "3  0         54\n",
       "   2          1\n",
       "   3         61\n",
       "dtype: int64"
      ]
     },
     "execution_count": 11,
     "metadata": {},
     "output_type": "execute_result"
    }
   ],
   "source": [
    "dev_df.groupby([0, 'gold']).size()"
   ]
  },
  {
   "cell_type": "code",
   "execution_count": 12,
   "metadata": {},
   "outputs": [
    {
     "data": {
      "text/plain": [
       "1   gold\n",
       "-1  0       2661\n",
       "    1         26\n",
       "    2        355\n",
       "    3         32\n",
       " 1  0         34\n",
       "    1         50\n",
       "    2         18\n",
       " 2  0         99\n",
       "    1          2\n",
       "    2        183\n",
       "    3          2\n",
       " 3  0         29\n",
       "    2          5\n",
       "    3         46\n",
       "dtype: int64"
      ]
     },
     "execution_count": 12,
     "metadata": {},
     "output_type": "execute_result"
    }
   ],
   "source": [
    "dev_df.groupby([1, 'gold']).size()"
   ]
  },
  {
   "cell_type": "code",
   "execution_count": 13,
   "metadata": {},
   "outputs": [
    {
     "data": {
      "text/plain": [
       "2   gold\n",
       "-1  0       2798\n",
       "    1         78\n",
       "    2        561\n",
       "    3         79\n",
       " 0  0         25\n",
       "    3          1\n",
       "dtype: int64"
      ]
     },
     "execution_count": 13,
     "metadata": {},
     "output_type": "execute_result"
    }
   ],
   "source": [
    "dev_df.groupby([2, 'gold']).size()"
   ]
  },
  {
   "cell_type": "markdown",
   "metadata": {},
   "source": [
    "Will the models work?"
   ]
  },
  {
   "cell_type": "code",
   "execution_count": 14,
   "metadata": {
    "scrolled": true
   },
   "outputs": [],
   "source": [
    "# from snorkel.labeling.model import MajorityLabelVoter\n",
    "\n",
    "# majority_model = MajorityLabelVoter()\n",
    "# Y_pred_train = majority_model.predict(L=L_train)\n",
    "\n",
    "# majority_acc = majority_model.score(L=L_valid, Y=Y_valid)[\"accuracy\"]\n",
    "# print(f\"{'Majority Vote Accuracy:':<25} {majority_acc * 100:.1f}%\")"
   ]
  },
  {
   "cell_type": "code",
   "execution_count": 15,
   "metadata": {},
   "outputs": [
    {
     "name": "stdout",
     "output_type": "stream",
     "text": [
      "Label Model Accuracy:     80.5%\n"
     ]
    }
   ],
   "source": [
    "from snorkel.labeling.model import LabelModel\n",
    "\n",
    "label_model = LabelModel(cardinality=5, verbose=True)\n",
    "label_model.fit(L_train=L_train, n_epochs=1000, lr=0.001, log_freq=100, seed=123)\n",
    "\n",
    "label_model_acc = label_model.score(L=L_valid, Y=Y_valid)[\"accuracy\"]\n",
    "print(f\"{'Label Model Accuracy:':<25} {label_model_acc * 100:.1f}%\")"
   ]
  },
  {
   "cell_type": "code",
   "execution_count": 16,
   "metadata": {},
   "outputs": [],
   "source": [
    "from snorkel.labeling.utils import filter_unlabeled_dataframe\n",
    "from snorkel.analysis.utils import probs_to_preds\n",
    "\n",
    "Y_probs_train = label_model.predict_proba(L=L_train)\n",
    "\n",
    "train_filtered, Y_probs_train_filtered = filter_unlabeled_dataframe(\n",
    "    X=train, y=Y_probs_train, L=L_train)\n",
    "\n",
    "Y_preds_train_filtered = probs_to_preds(probs=Y_probs_train_filtered)"
   ]
  },
  {
   "cell_type": "code",
   "execution_count": 17,
   "metadata": {},
   "outputs": [],
   "source": [
    "from sklearn.feature_extraction.text import TfidfVectorizer\n",
    "\n",
    "words_train = [row.text for i, row in train_filtered.iterrows()]\n",
    "words_valid = [row.text for i, row in valid.iterrows()]\n",
    "words_test = [row.text for i, row in test.iterrows()]\n",
    "\n",
    "vectorizer = TfidfVectorizer(sublinear_tf=True, min_df=5, norm='l2', ngram_range=(2,2))\n",
    "X_train = vectorizer.fit_transform(words_train).toarray()\n",
    "X_valid = vectorizer.transform(words_valid).toarray()\n",
    "X_test = vectorizer.transform(words_test).toarray()"
   ]
  },
  {
   "cell_type": "code",
   "execution_count": 18,
   "metadata": {},
   "outputs": [
    {
     "name": "stderr",
     "output_type": "stream",
     "text": [
      "/anaconda3/envs/snorkel2/lib/python3.6/site-packages/sklearn/ensemble/forest.py:245: FutureWarning: The default value of n_estimators will change from 10 in version 0.20 to 100 in 0.22.\n",
      "  \"10 in version 0.20 to 100 in 0.22.\", FutureWarning)\n"
     ]
    }
   ],
   "source": [
    "from sklearn.ensemble import RandomForestClassifier\n",
    "classifier = RandomForestClassifier().fit(X_train, Y_preds_train_filtered)"
   ]
  },
  {
   "cell_type": "code",
   "execution_count": 19,
   "metadata": {},
   "outputs": [
    {
     "data": {
      "text/html": [
       "<div>\n",
       "<style scoped>\n",
       "    .dataframe tbody tr th:only-of-type {\n",
       "        vertical-align: middle;\n",
       "    }\n",
       "\n",
       "    .dataframe tbody tr th {\n",
       "        vertical-align: top;\n",
       "    }\n",
       "\n",
       "    .dataframe thead th {\n",
       "        text-align: right;\n",
       "    }\n",
       "</style>\n",
       "<table border=\"1\" class=\"dataframe\">\n",
       "  <thead>\n",
       "    <tr style=\"text-align: right;\">\n",
       "      <th>Predicted Label</th>\n",
       "      <th>0</th>\n",
       "      <th>1</th>\n",
       "      <th>2</th>\n",
       "      <th>3</th>\n",
       "    </tr>\n",
       "    <tr>\n",
       "      <th>Actual Label</th>\n",
       "      <th></th>\n",
       "      <th></th>\n",
       "      <th></th>\n",
       "      <th></th>\n",
       "    </tr>\n",
       "  </thead>\n",
       "  <tbody>\n",
       "    <tr>\n",
       "      <th>0</th>\n",
       "      <td>3700</td>\n",
       "      <td>88</td>\n",
       "      <td>606</td>\n",
       "      <td>70</td>\n",
       "    </tr>\n",
       "    <tr>\n",
       "      <th>1</th>\n",
       "      <td>16</td>\n",
       "      <td>77</td>\n",
       "      <td>19</td>\n",
       "      <td>0</td>\n",
       "    </tr>\n",
       "    <tr>\n",
       "      <th>2</th>\n",
       "      <td>56</td>\n",
       "      <td>7</td>\n",
       "      <td>780</td>\n",
       "      <td>2</td>\n",
       "    </tr>\n",
       "    <tr>\n",
       "      <th>3</th>\n",
       "      <td>18</td>\n",
       "      <td>1</td>\n",
       "      <td>17</td>\n",
       "      <td>77</td>\n",
       "    </tr>\n",
       "  </tbody>\n",
       "</table>\n",
       "</div>"
      ],
      "text/plain": [
       "Predicted Label     0   1    2   3\n",
       "Actual Label                      \n",
       "0                3700  88  606  70\n",
       "1                  16  77   19   0\n",
       "2                  56   7  780   2\n",
       "3                  18   1   17  77"
      ]
     },
     "execution_count": 19,
     "metadata": {},
     "output_type": "execute_result"
    }
   ],
   "source": [
    "Y_pred = classifier.predict(X_test)\n",
    "pd.crosstab(Y_test, Y_pred, rownames=['Actual Label'], colnames=['Predicted Label'])"
   ]
  }
 ],
 "metadata": {
  "kernelspec": {
   "display_name": "Python 3",
   "language": "python",
   "name": "python3"
  },
  "language_info": {
   "codemirror_mode": {
    "name": "ipython",
    "version": 3
   },
   "file_extension": ".py",
   "mimetype": "text/x-python",
   "name": "python",
   "nbconvert_exporter": "python",
   "pygments_lexer": "ipython3",
   "version": "3.6.8"
  }
 },
 "nbformat": 4,
 "nbformat_minor": 2
}
