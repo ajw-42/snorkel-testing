{
 "cells": [
  {
   "cell_type": "markdown",
   "metadata": {},
   "source": [
    "Cleaning this data of Arabic news labeled for category: https://data.mendeley.com/datasets/322pzsdxwy/1\n",
    "\n",
    "Their description of the data:\n",
    "\n",
    "> RTAnews dataset is a collections of multi-label Arabic texts, collected form Russia Today in Arabic news portal. It consists of 23,837 texts (news articles) distributed over 40 categories, and divided into 15,001 texts for the training and 8,836 texts for the test.\n",
    "The original dataset (without preprocessing), a preprocessed version of the dataset, versions of the dataset in MEKA and Mulan formats, single-label version, and WEAK version all are available.\n",
    "\n",
    "I'm using the preprocessed data here, which has all punctuation removed and joins the title with the main text. Later, could be interested to go back and look at title versus text.\n",
    "\n",
    "Note that these aren't full news articles, more like paragraph-lengh blurbs. Maybe the first para of the scraped articles?"
   ]
  },
  {
   "cell_type": "code",
   "execution_count": 2,
   "metadata": {},
   "outputs": [],
   "source": [
    "import numpy as np\n",
    "import matplotlib.pyplot as plt\n",
    "import pandas as pd\n",
    "import os\n",
    "import glob2\n",
    "#from tqdm import tqdm\n",
    "\n",
    "%matplotlib inline\n",
    "from IPython.core.pylabtools import figsize"
   ]
  },
  {
   "cell_type": "code",
   "execution_count": 85,
   "metadata": {},
   "outputs": [
    {
     "data": {
      "text/plain": [
       "['/Users/awhite/Downloads/RTAnews-4/training/اتفاق_ايران_النووي',\n",
       " '/Users/awhite/Downloads/RTAnews-4/training/استفتاء_بريطانيا',\n",
       " '/Users/awhite/Downloads/RTAnews-4/training/اكتشافات',\n",
       " '/Users/awhite/Downloads/RTAnews-4/training/الاعتراف_بدولة_فلسطين',\n",
       " '/Users/awhite/Downloads/RTAnews-4/training/الانتخابات_الأمريكية',\n",
       " '/Users/awhite/Downloads/RTAnews-4/training/الأزمة_الأوكرانية',\n",
       " '/Users/awhite/Downloads/RTAnews-4/training/الأزمة_السورية',\n",
       " '/Users/awhite/Downloads/RTAnews-4/training/الأزمة_اليمنية',\n",
       " '/Users/awhite/Downloads/RTAnews-4/training/البحوث_الطبية',\n",
       " '/Users/awhite/Downloads/RTAnews-4/training/البورصات',\n",
       " '/Users/awhite/Downloads/RTAnews-4/training/التقنية_والمعلومات',\n",
       " '/Users/awhite/Downloads/RTAnews-4/training/السياحة_في_العالم',\n",
       " '/Users/awhite/Downloads/RTAnews-4/training/المعارضة_السورية',\n",
       " '/Users/awhite/Downloads/RTAnews-4/training/الهجرة_إلى_أوروبا',\n",
       " '/Users/awhite/Downloads/RTAnews-4/training/امراض',\n",
       " '/Users/awhite/Downloads/RTAnews-4/training/انقلاب_تركيا',\n",
       " '/Users/awhite/Downloads/RTAnews-4/training/أسلحة_ومعدات_عسكرية',\n",
       " '/Users/awhite/Downloads/RTAnews-4/training/أسواق_النفط',\n",
       " '/Users/awhite/Downloads/RTAnews-4/training/أولمبياد_ريو_دي_جانيرو_2016',\n",
       " '/Users/awhite/Downloads/RTAnews-4/training/تفجيرات',\n",
       " '/Users/awhite/Downloads/RTAnews-4/training/جرائم',\n",
       " '/Users/awhite/Downloads/RTAnews-4/training/جماعات_مسلحة',\n",
       " '/Users/awhite/Downloads/RTAnews-4/training/رياضات_اخرى',\n",
       " '/Users/awhite/Downloads/RTAnews-4/training/صواريخ',\n",
       " '/Users/awhite/Downloads/RTAnews-4/training/طائرات_حربية',\n",
       " '/Users/awhite/Downloads/RTAnews-4/training/عقوبات_اقتصادية',\n",
       " '/Users/awhite/Downloads/RTAnews-4/training/علم_الآثار_والتاريخ',\n",
       " '/Users/awhite/Downloads/RTAnews-4/training/عملية_تحرير_الموصل',\n",
       " '/Users/awhite/Downloads/RTAnews-4/training/فضاء',\n",
       " '/Users/awhite/Downloads/RTAnews-4/training/كرة_القدم',\n",
       " '/Users/awhite/Downloads/RTAnews-4/training/كوارث_جوية',\n",
       " '/Users/awhite/Downloads/RTAnews-4/training/لاجئون',\n",
       " '/Users/awhite/Downloads/RTAnews-4/training/مخدرات',\n",
       " '/Users/awhite/Downloads/RTAnews-4/training/مشاهير',\n",
       " '/Users/awhite/Downloads/RTAnews-4/training/مظاهرات',\n",
       " '/Users/awhite/Downloads/RTAnews-4/training/معلومات_عامة',\n",
       " '/Users/awhite/Downloads/RTAnews-4/training/مناورات_عسكرية',\n",
       " '/Users/awhite/Downloads/RTAnews-4/training/موسيقى',\n",
       " '/Users/awhite/Downloads/RTAnews-4/training/مؤشرات_اقتصادية',\n",
       " '/Users/awhite/Downloads/RTAnews-4/training/هجمات_باريس']"
      ]
     },
     "execution_count": 85,
     "metadata": {},
     "output_type": "execute_result"
    }
   ],
   "source": [
    "path = '/Users/awhite/Downloads/RTAnews-4/training/'\n",
    "folders = [x[0] for x in os.walk(path)]\n",
    "del folders[0] \n",
    "folders"
   ]
  },
  {
   "cell_type": "code",
   "execution_count": 111,
   "metadata": {},
   "outputs": [
    {
     "data": {
      "text/plain": [
       "['/Users/awhite/Downloads/RTAnews-4/training/اتفاق_ايران_النووي',\n",
       " '/Users/awhite/Downloads/RTAnews-4/training/استفتاء_بريطانيا']"
      ]
     },
     "execution_count": 111,
     "metadata": {},
     "output_type": "execute_result"
    }
   ],
   "source": [
    "#Quick test to be sure this is working\n",
    "folders_test = folders[0:2]\n",
    "folders_test"
   ]
  },
  {
   "cell_type": "code",
   "execution_count": 168,
   "metadata": {},
   "outputs": [],
   "source": [
    "media_df = pd.DataFrame()\n",
    "\n",
    "for folder in folders_test:\n",
    "    corpus = []\n",
    "    file_list = glob2.glob(folder + '/*.txt')\n",
    "    for file_path in file_list:\n",
    "        with open(file_path) as f_input:\n",
    "            corpus.append(f_input.read())\n",
    "            df = pd.DataFrame(corpus)\n",
    "            df['category'] = folder.replace(path,'')\n",
    "    media_df = media_df.append(df)"
   ]
  },
  {
   "cell_type": "code",
   "execution_count": 169,
   "metadata": {},
   "outputs": [
    {
     "data": {
      "text/plain": [
       "265"
      ]
     },
     "execution_count": 169,
     "metadata": {},
     "output_type": "execute_result"
    }
   ],
   "source": [
    "len(media_df)"
   ]
  },
  {
   "cell_type": "code",
   "execution_count": 170,
   "metadata": {},
   "outputs": [
    {
     "data": {
      "text/plain": [
       "اتفاق_ايران_النووي    155\n",
       "استفتاء_بريطانيا      110\n",
       "Name: category, dtype: int64"
      ]
     },
     "execution_count": 170,
     "metadata": {},
     "output_type": "execute_result"
    }
   ],
   "source": [
    "media_df.category.value_counts()"
   ]
  },
  {
   "cell_type": "code",
   "execution_count": 171,
   "metadata": {},
   "outputs": [],
   "source": [
    "#Let's load everything!\n",
    "train = pd.DataFrame()\n",
    "\n",
    "for folder in folders:\n",
    "    corpus = []\n",
    "    file_list = glob2.glob(folder + '/*.txt')\n",
    "    for file_path in file_list:\n",
    "        with open(file_path) as f_input:\n",
    "            corpus.append(f_input.read())\n",
    "            df = pd.DataFrame(corpus)\n",
    "            df['category'] = folder.replace(path,'')\n",
    "    train = train.append(df)\n",
    "    \n",
    "\n",
    "test_path = '/Users/awhite/Downloads/RTAnews-4/test/'\n",
    "test_folders = [x[0] for x in os.walk(test_path)]\n",
    "del test_folders[0] \n",
    "\n",
    "test = pd.DataFrame()\n",
    "\n",
    "for folder in test_folders:\n",
    "    corpus = []\n",
    "    file_list = glob2.glob(folder + '/*.txt')\n",
    "    for file_path in file_list:\n",
    "        with open(file_path) as f_input:\n",
    "            corpus.append(f_input.read())\n",
    "            df = pd.DataFrame(corpus)\n",
    "            df['category'] = folder.replace(test_path,'')\n",
    "    test = test.append(df)"
   ]
  },
  {
   "cell_type": "code",
   "execution_count": 172,
   "metadata": {},
   "outputs": [
    {
     "data": {
      "text/plain": [
       "16610"
      ]
     },
     "execution_count": 172,
     "metadata": {},
     "output_type": "execute_result"
    }
   ],
   "source": [
    "len(train)"
   ]
  },
  {
   "cell_type": "code",
   "execution_count": 173,
   "metadata": {},
   "outputs": [
    {
     "data": {
      "text/html": [
       "<div>\n",
       "<style scoped>\n",
       "    .dataframe tbody tr th:only-of-type {\n",
       "        vertical-align: middle;\n",
       "    }\n",
       "\n",
       "    .dataframe tbody tr th {\n",
       "        vertical-align: top;\n",
       "    }\n",
       "\n",
       "    .dataframe thead th {\n",
       "        text-align: right;\n",
       "    }\n",
       "</style>\n",
       "<table border=\"1\" class=\"dataframe\">\n",
       "  <thead>\n",
       "    <tr style=\"text-align: right;\">\n",
       "      <th></th>\n",
       "      <th>0</th>\n",
       "      <th>category</th>\n",
       "    </tr>\n",
       "  </thead>\n",
       "  <tbody>\n",
       "    <tr>\n",
       "      <th>0</th>\n",
       "      <td>كارتر يتوجه رياض اطار جولته اوسط اعلنت مستشاره...</td>\n",
       "      <td>اتفاق_ايران_النووي</td>\n",
       "    </tr>\n",
       "    <tr>\n",
       "      <th>1</th>\n",
       "      <td>خامنئي يشيد بجهود مفاوض فيينا اشاد مرشد اعلى ث...</td>\n",
       "      <td>اتفاق_ايران_النووي</td>\n",
       "    </tr>\n",
       "    <tr>\n",
       "      <th>2</th>\n",
       "      <td>يتراجع مخاوف تدفق سريع ايراني هبطت اسعار ارتفا...</td>\n",
       "      <td>اتفاق_ايران_النووي</td>\n",
       "    </tr>\n",
       "    <tr>\n",
       "      <th>3</th>\n",
       "      <td>اقتصاد الماني يزور ايران غضون ايام ينوي اقتصاد...</td>\n",
       "      <td>اتفاق_ايران_النووي</td>\n",
       "    </tr>\n",
       "    <tr>\n",
       "      <th>4</th>\n",
       "      <td>خامنئي اتفاق مبرم ايران عالميه اخضاعه متمعن زع...</td>\n",
       "      <td>اتفاق_ايران_النووي</td>\n",
       "    </tr>\n",
       "  </tbody>\n",
       "</table>\n",
       "</div>"
      ],
      "text/plain": [
       "                                                   0            category\n",
       "0  كارتر يتوجه رياض اطار جولته اوسط اعلنت مستشاره...  اتفاق_ايران_النووي\n",
       "1  خامنئي يشيد بجهود مفاوض فيينا اشاد مرشد اعلى ث...  اتفاق_ايران_النووي\n",
       "2  يتراجع مخاوف تدفق سريع ايراني هبطت اسعار ارتفا...  اتفاق_ايران_النووي\n",
       "3  اقتصاد الماني يزور ايران غضون ايام ينوي اقتصاد...  اتفاق_ايران_النووي\n",
       "4  خامنئي اتفاق مبرم ايران عالميه اخضاعه متمعن زع...  اتفاق_ايران_النووي"
      ]
     },
     "execution_count": 173,
     "metadata": {},
     "output_type": "execute_result"
    }
   ],
   "source": [
    "train.head()"
   ]
  },
  {
   "cell_type": "code",
   "execution_count": 174,
   "metadata": {},
   "outputs": [
    {
     "data": {
      "text/plain": [
       "11060"
      ]
     },
     "execution_count": 174,
     "metadata": {},
     "output_type": "execute_result"
    }
   ],
   "source": [
    "len(test)"
   ]
  },
  {
   "cell_type": "code",
   "execution_count": 175,
   "metadata": {},
   "outputs": [
    {
     "data": {
      "text/html": [
       "<div>\n",
       "<style scoped>\n",
       "    .dataframe tbody tr th:only-of-type {\n",
       "        vertical-align: middle;\n",
       "    }\n",
       "\n",
       "    .dataframe tbody tr th {\n",
       "        vertical-align: top;\n",
       "    }\n",
       "\n",
       "    .dataframe thead th {\n",
       "        text-align: right;\n",
       "    }\n",
       "</style>\n",
       "<table border=\"1\" class=\"dataframe\">\n",
       "  <thead>\n",
       "    <tr style=\"text-align: right;\">\n",
       "      <th></th>\n",
       "      <th>0</th>\n",
       "      <th>category</th>\n",
       "    </tr>\n",
       "  </thead>\n",
       "  <tbody>\n",
       "    <tr>\n",
       "      <th>0</th>\n",
       "      <td>نووي ايراني ماراثون تفاوض قطعت مفاوضات نوويه ا...</td>\n",
       "      <td>اتفاق_ايران_النووي</td>\n",
       "    </tr>\n",
       "    <tr>\n",
       "      <th>1</th>\n",
       "      <td>لافروف يبحث اوزبكستان وضع آسيا وسطى تعاون ثنائ...</td>\n",
       "      <td>اتفاق_ايران_النووي</td>\n",
       "    </tr>\n",
       "    <tr>\n",
       "      <th>2</th>\n",
       "      <td>تبادل تجاري روسيا ايران يصل مليارات دولار اعلن...</td>\n",
       "      <td>اتفاق_ايران_النووي</td>\n",
       "    </tr>\n",
       "    <tr>\n",
       "      <th>3</th>\n",
       "      <td>سعوديه تويد اتفاق نووي بشروط واشنطن توفد زير د...</td>\n",
       "      <td>اتفاق_ايران_النووي</td>\n",
       "    </tr>\n",
       "    <tr>\n",
       "      <th>4</th>\n",
       "      <td>تصبح ايران نقطه تقا موسكو واشنطن لتسويه ازمات ...</td>\n",
       "      <td>اتفاق_ايران_النووي</td>\n",
       "    </tr>\n",
       "  </tbody>\n",
       "</table>\n",
       "</div>"
      ],
      "text/plain": [
       "                                                   0            category\n",
       "0  نووي ايراني ماراثون تفاوض قطعت مفاوضات نوويه ا...  اتفاق_ايران_النووي\n",
       "1  لافروف يبحث اوزبكستان وضع آسيا وسطى تعاون ثنائ...  اتفاق_ايران_النووي\n",
       "2  تبادل تجاري روسيا ايران يصل مليارات دولار اعلن...  اتفاق_ايران_النووي\n",
       "3  سعوديه تويد اتفاق نووي بشروط واشنطن توفد زير د...  اتفاق_ايران_النووي\n",
       "4  تصبح ايران نقطه تقا موسكو واشنطن لتسويه ازمات ...  اتفاق_ايران_النووي"
      ]
     },
     "execution_count": 175,
     "metadata": {},
     "output_type": "execute_result"
    }
   ],
   "source": [
    "test.head()"
   ]
  },
  {
   "cell_type": "code",
   "execution_count": 181,
   "metadata": {},
   "outputs": [],
   "source": [
    "#Our counts don't exactly match their claimed train/test split.\n",
    "#For now, let's join the data and split it ourselves.\n",
    "media_df = train.append(test)\n",
    "media_df = media_df.rename(columns = {0:'text'})"
   ]
  },
  {
   "cell_type": "code",
   "execution_count": 177,
   "metadata": {},
   "outputs": [
    {
     "data": {
      "text/plain": [
       "27670"
      ]
     },
     "execution_count": 177,
     "metadata": {},
     "output_type": "execute_result"
    }
   ],
   "source": [
    "len(media_df)"
   ]
  },
  {
   "cell_type": "code",
   "execution_count": 178,
   "metadata": {},
   "outputs": [
    {
     "data": {
      "text/plain": [
       "كرة_القدم                       4301\n",
       "الأزمة_السورية                 3160\n",
       "جماعات_مسلحة                    2142\n",
       "أسواق_النفط                    1364\n",
       "لاجئون                         1256\n",
       "رياضات_اخرى                     1100\n",
       "المعارضة_السورية                1002\n",
       "صواريخ                           741\n",
       "التقنية_والمعلومات               639\n",
       "فضاء                             630\n",
       "أسلحة_ومعدات_عسكرية             625\n",
       "الهجرة_إلى_أوروبا              616\n",
       "الأزمة_الأوكرانية              595\n",
       "اكتشافات                         577\n",
       "الأزمة_اليمنية                  566\n",
       "تفجيرات                          559\n",
       "مشاهير                           539\n",
       "البحوث_الطبية                    530\n",
       "معلومات_عامة                     484\n",
       "طائرات_حربية                    479\n",
       "الانتخابات_الأمريكية            447\n",
       "جرائم                           433\n",
       "مظاهرات                          422\n",
       "مؤشرات_اقتصادية                 400\n",
       "عقوبات_اقتصادية                  397\n",
       "الاعتراف_بدولة_فلسطين            369\n",
       "امراض                            323\n",
       "أولمبياد_ريو_دي_جانيرو_2016     314\n",
       "انقلاب_تركيا                     305\n",
       "عملية_تحرير_الموصل               294\n",
       "هجمات_باريس                      287\n",
       "مناورات_عسكرية                   256\n",
       "اتفاق_ايران_النووي               251\n",
       "السياحة_في_العالم                196\n",
       "البورصات                         186\n",
       "استفتاء_بريطانيا                 184\n",
       "علم_الآثار_والتاريخ             182\n",
       "كوارث_جوية                       177\n",
       "مخدرات                           175\n",
       "موسيقى                           167\n",
       "Name: category, dtype: int64"
      ]
     },
     "execution_count": 178,
     "metadata": {},
     "output_type": "execute_result"
    }
   ],
   "source": [
    "media_df.category.value_counts()"
   ]
  },
  {
   "cell_type": "code",
   "execution_count": 183,
   "metadata": {},
   "outputs": [],
   "source": [
    "media_df.to_csv('/Users/awhite/Documents/snorkel/arabic_news_cleaned.csv')"
   ]
  },
  {
   "cell_type": "code",
   "execution_count": null,
   "metadata": {},
   "outputs": [],
   "source": []
  },
  {
   "cell_type": "code",
   "execution_count": null,
   "metadata": {},
   "outputs": [],
   "source": []
  }
 ],
 "metadata": {
  "kernelspec": {
   "display_name": "Python 3",
   "language": "python",
   "name": "python3"
  },
  "language_info": {
   "codemirror_mode": {
    "name": "ipython",
    "version": 3
   },
   "file_extension": ".py",
   "mimetype": "text/x-python",
   "name": "python",
   "nbconvert_exporter": "python",
   "pygments_lexer": "ipython3",
   "version": "3.6.8"
  }
 },
 "nbformat": 4,
 "nbformat_minor": 2
}
