{
 "cells": [
  {
   "cell_type": "markdown",
   "metadata": {},
   "source": [
    "Notes\n",
    "\n",
    "- I installed snorkel from the redux branch on 7 Aug into an environment running Python 3.6 -- 3.5 and 3.7 both didn't work for me. Skimming the git issues seems to indicate this is going to be fixed.\n",
    "- Snorkel developers are working on a new release - \"coming later this summer\" - so it may soon be better to install from master or just with pip/conda\n",
    "- For data, I'm using the version of the Global Terrorism Database on Kaggle (https://www.kaggle.com/START-UMD/gtd/)\n",
    "\n",
    "Beware of blogs, etc. about snorkel which may be helpful but often discuss outdated versions of the API!\n",
    "- These tutorials WERE helpful, and then they got deleted: https://github.com/HazyResearch/snorkel/tree/redux/tutorials/workshop.\n",
    "- Avoid these tutorials, which are outdated: https://github.com/HazyResearch/snorkel/blob/master/tutorials\n",
    "- These tutorials seem to be up-to-date: https://github.com/snorkel-team/snorkel-tutorials/blob/master"
   ]
  },
  {
   "cell_type": "code",
   "execution_count": 1,
   "metadata": {},
   "outputs": [],
   "source": [
    "import pandas as pd\n",
    "import numpy as np\n",
    "import snorkel\n",
    "import re \n",
    "\n",
    "from sklearn.model_selection import train_test_split"
   ]
  },
  {
   "cell_type": "code",
   "execution_count": 2,
   "metadata": {},
   "outputs": [
    {
     "name": "stderr",
     "output_type": "stream",
     "text": [
      "/anaconda3/envs/snorkel2/lib/python3.6/site-packages/IPython/core/interactiveshell.py:3057: DtypeWarning: Columns (4,6,31,33,61,62,63,76,79,90,92,94,96,114,115,121) have mixed types. Specify dtype option on import or set low_memory=False.\n",
      "  interactivity=interactivity, compiler=compiler, result=result)\n"
     ]
    }
   ],
   "source": [
    "terror_df = pd.read_csv('/Users/awhite/Documents/globalterrorismdb_0718dist.csv',\n",
    "                       encoding = 'ISO-8859-1')"
   ]
  },
  {
   "cell_type": "code",
   "execution_count": 3,
   "metadata": {},
   "outputs": [
    {
     "data": {
      "text/plain": [
       "0                                                   NaN\n",
       "1                                                   NaN\n",
       "2                                                   NaN\n",
       "3                                                   NaN\n",
       "4                                                   NaN\n",
       "5     1/1/1970: Unknown African American assailants ...\n",
       "6                                                   NaN\n",
       "7     1/2/1970: Unknown perpetrators detonated explo...\n",
       "8     1/2/1970: Karl Armstrong, a member of the New ...\n",
       "9     1/3/1970: Karl Armstrong, a member of the New ...\n",
       "10                                                  NaN\n",
       "11    1/6/1970: Unknown perpetrators threw a Molotov...\n",
       "12                                                  NaN\n",
       "13    1/9/1970: Unknown perpetrators set off a fireb...\n",
       "14    1/9/1970:  The Armed Commandos of Liberation c...\n",
       "15                                                  NaN\n",
       "16                                                  NaN\n",
       "17    1/12/1970: Unknown perpetrators threw a pipe b...\n",
       "18    1/12/1970: Unknown perpetrators detonated a bo...\n",
       "19    1/13/1970: Unknown perpetrators firebombed Fus...\n",
       "Name: summary, dtype: object"
      ]
     },
     "execution_count": 3,
     "metadata": {},
     "output_type": "execute_result"
    }
   ],
   "source": [
    "terror_df.summary.head(20)"
   ]
  },
  {
   "cell_type": "code",
   "execution_count": 4,
   "metadata": {},
   "outputs": [
    {
     "data": {
      "text/plain": [
       "115562"
      ]
     },
     "execution_count": 4,
     "metadata": {},
     "output_type": "execute_result"
    }
   ],
   "source": [
    "#drop items w no summary, be sure all summaries are strings\n",
    "terror_df = terror_df.dropna(subset=['summary'])\n",
    "len(terror_df)"
   ]
  },
  {
   "cell_type": "code",
   "execution_count": 5,
   "metadata": {},
   "outputs": [],
   "source": [
    "train, test = train_test_split(terror_df, test_size = 0.2, random_state = 0)\n",
    "\n",
    "#snorkel calls for a separate validation set (and optionally a dev set for LF development)\n",
    "train, valid = train_test_split(train, test_size = 0.2, random_state = 0)\n",
    "\n",
    "Y_train = train[\"suicide\"].values\n",
    "Y_valid = valid[\"suicide\"].values\n",
    "Y_test = test[\"suicide\"].values"
   ]
  },
  {
   "cell_type": "code",
   "execution_count": 6,
   "metadata": {},
   "outputs": [
    {
     "data": {
      "text/plain": [
       "23113"
      ]
     },
     "execution_count": 6,
     "metadata": {},
     "output_type": "execute_result"
    }
   ],
   "source": [
    "len(test)"
   ]
  },
  {
   "cell_type": "markdown",
   "metadata": {},
   "source": [
    "Let's try to predict if an attack was a suicide attack - this seems easy."
   ]
  },
  {
   "cell_type": "code",
   "execution_count": 7,
   "metadata": {},
   "outputs": [
    {
     "data": {
      "text/plain": [
       "76962    09/04/2004: A Police Academy in Kirkuk Iraq was attacked by a suicide bomber in a car, killing 20 and wounding 36. Tawhid and Jihad claimed responsibility for the attack.                                                                                                                                                                                                                                                                                       \n",
       "76226    01/18/2004: A pickup truck loaded with 500 kilos of explosives exploded at the Assassin's Gate, the entrance to the main industrial center of Baghdad, Iraq, and also the United States' Military headquarters. Twenty-five were people killed and over 100 were injured in the attack, for which no group claimed responsibility.                                                                                                                               \n",
       "77565    02/24/2005: An unidentified suicide car bomber wearing a police uniform targeted police headquarters in Tikrit, Iraq. The explosion killed 10 people and wounded 35 others. No group claimed responsibility for the bombing.                                                                                                                                                                                                                                     \n",
       "85300    12/15/2007: An unidentified suicide bomber on a bike detonated himself outside a military checkpoint in the city of Nowshera, Pakistan, killing two soldiers and three civilians. Several others were injured in the blast.                                                                                                                                                                                                                                      \n",
       "85331    12/23/2007:  In Mingaora, Pakistan, a sucicide bomber detonated his vehicle-borne improvised explosive devide (VBIED) near a military convoy.  Six civillians were killed, along with four soldiers and three children.  Fifteen soldiers were wounded along with 11 civillians.  Damages were suffered toward four civillain vehicle, two military vehicles, 14 shops, and to nearby electric lines.  The Thrik-i-Taliban Pakistan (TTP) claimed responsibility.\n",
       "Name: summary, dtype: object"
      ]
     },
     "execution_count": 7,
     "metadata": {},
     "output_type": "execute_result"
    }
   ],
   "source": [
    "pd.set_option(\"display.max_colwidth\", 0)\n",
    "\n",
    "terror_df[terror_df.suicide == 1].summary.sample(5, random_state=3)"
   ]
  },
  {
   "cell_type": "code",
   "execution_count": 8,
   "metadata": {},
   "outputs": [
    {
     "data": {
      "text/plain": [
       "112007    10/30/2012: Assailants detonated an explosive device at an electricity tower in the Ghitani area of Mach town, Balochistan province, Pakistan. There were no reported casualties; however, the targeted tower was partially damaged in the blast. No group claimed responsibility for the incident.                                                                                                               \n",
       "156272    12/05/2015: An explosive device detonated as police personnel were attempting to defuse it in Waghaz district, Ghazni Province, Afghanistan. Two police officers were wounded in the blast. No group claimed responsibility for the incident.                                                                                                                                                                     \n",
       "158353    01/31/2016: Explosive devices detonated targeting a military patrol in eastern Norte de Santander department, Colombia. Two soldiers were killed in the blast. No group claimed responsibility for the incident; however, sources attributed the attack to the National Liberation Army of Colombia (ELN).                                                                                                        \n",
       "139260    10/16/2014: Assailants opened fire on Ukrainian Army soldiers near Tonenke town, Donetsk oblast, Ukraine. There were no reported casualties in the attack. No group claimed responsibility for the incident; however, sources attributed the attack to the Donetsk People's Republic.                                                                                                                             \n",
       "104356    12/1/2011: On a road in Ban Buathong in the Than To district of Yala, Thailand, a soldier was killed when he stepped on a landmine.  The soldier, Pvt. Kriangkrai Promsai, was part of a nine person patrol in the area.  Another soldier, Pvt. Siam Saw Lao, was injured in the blast.  While there was no claim of responsibility, it is believed that Runda Kumpulan Kecil (RKK) is responsible for the attack.\n",
       "Name: summary, dtype: object"
      ]
     },
     "execution_count": 8,
     "metadata": {},
     "output_type": "execute_result"
    }
   ],
   "source": [
    "terror_df[terror_df.suicide == 0].summary.sample(5, random_state=3)"
   ]
  },
  {
   "cell_type": "code",
   "execution_count": 9,
   "metadata": {},
   "outputs": [],
   "source": [
    "from snorkel.labeling.apply import PandasLFApplier\n",
    "from snorkel.labeling.lf import labeling_function\n",
    "from snorkel.types import DataPoint\n",
    "\n",
    "POS = 1\n",
    "NEG = 0 \n",
    "ABSTAIN = -1"
   ]
  },
  {
   "cell_type": "code",
   "execution_count": 11,
   "metadata": {},
   "outputs": [
    {
     "data": {
      "text/plain": [
       "False    18435\n",
       "True     55   \n",
       "Name: summary, dtype: int64"
      ]
     },
     "execution_count": 11,
     "metadata": {},
     "output_type": "execute_result"
    }
   ],
   "source": [
    "valid.summary.str.contains(\"suicide attack\").value_counts()"
   ]
  },
  {
   "cell_type": "markdown",
   "metadata": {},
   "source": [
    "It seems snorkel isn't very forgiving about the way you write LFs. I tried a number of different ways for these basic examples - find a substring in text - and couldn't get them to work until I copied the approach in https://github.com/snorkel-team/snorkel-tutorials/blob/master/spam/01_spam_tutorial.ipynb. For instance `str.contains()` and `str.count()` didn't work. Maybe I was doing something wrong.\n",
    "\n",
    "While there is some disagreement on this, snorkel developers generally suggest that many simple LFs are better than a few complex LFs."
   ]
  },
  {
   "cell_type": "code",
   "execution_count": 12,
   "metadata": {},
   "outputs": [],
   "source": [
    "@labeling_function()\n",
    "def suicide_mentioned(x):\n",
    "    return POS if \"suicide\" in x.summary.lower() else ABSTAIN"
   ]
  },
  {
   "cell_type": "code",
   "execution_count": 13,
   "metadata": {},
   "outputs": [],
   "source": [
    "@labeling_function()\n",
    "def suicide_attack(x):\n",
    "    return POS if \"suicide attack\" in x.summary.lower() else ABSTAIN"
   ]
  },
  {
   "cell_type": "code",
   "execution_count": 14,
   "metadata": {},
   "outputs": [],
   "source": [
    "@labeling_function()\n",
    "def suicide_bomb(x):\n",
    "    return POS if \"suicide bomb\" in x.summary.lower() else ABSTAIN"
   ]
  },
  {
   "cell_type": "code",
   "execution_count": 15,
   "metadata": {},
   "outputs": [],
   "source": [
    "@labeling_function()\n",
    "def unknown_perps(x):\n",
    "    return NEG if \"unknown perpetrator\" in x.summary.lower() else ABSTAIN"
   ]
  },
  {
   "cell_type": "code",
   "execution_count": 16,
   "metadata": {},
   "outputs": [],
   "source": [
    "@labeling_function()\n",
    "def no_responsibility(x):\n",
    "    return NEG if \"no group claimed responsibility\" in x.summary.lower() else ABSTAIN"
   ]
  },
  {
   "cell_type": "code",
   "execution_count": 17,
   "metadata": {},
   "outputs": [
    {
     "name": "stderr",
     "output_type": "stream",
     "text": [
      "100%|██████████| 73959/73959 [00:11<00:00, 6664.42it/s]\n",
      "100%|██████████| 18490/18490 [00:02<00:00, 7212.82it/s]\n",
      "100%|██████████| 23113/23113 [00:03<00:00, 6941.23it/s]\n"
     ]
    }
   ],
   "source": [
    "lfs = [suicide_mentioned,suicide_attack,\n",
    "       suicide_bomb,unknown_perps,\n",
    "       no_responsibility]\n",
    "\n",
    "applier = PandasLFApplier(lfs)\n",
    "\n",
    "L_train = applier.apply(df=train)\n",
    "L_valid = applier.apply(df=valid)\n",
    "L_test = applier.apply(df=test)"
   ]
  },
  {
   "cell_type": "code",
   "execution_count": 18,
   "metadata": {},
   "outputs": [
    {
     "data": {
      "text/html": [
       "<div>\n",
       "<style scoped>\n",
       "    .dataframe tbody tr th:only-of-type {\n",
       "        vertical-align: middle;\n",
       "    }\n",
       "\n",
       "    .dataframe tbody tr th {\n",
       "        vertical-align: top;\n",
       "    }\n",
       "\n",
       "    .dataframe thead th {\n",
       "        text-align: right;\n",
       "    }\n",
       "</style>\n",
       "<table border=\"1\" class=\"dataframe\">\n",
       "  <thead>\n",
       "    <tr style=\"text-align: right;\">\n",
       "      <th></th>\n",
       "      <th>j</th>\n",
       "      <th>Polarity</th>\n",
       "      <th>Coverage</th>\n",
       "      <th>Overlaps</th>\n",
       "      <th>Conflicts</th>\n",
       "    </tr>\n",
       "  </thead>\n",
       "  <tbody>\n",
       "    <tr>\n",
       "      <th>suicide_mentioned</th>\n",
       "      <td>0</td>\n",
       "      <td>[1]</td>\n",
       "      <td>0.053678</td>\n",
       "      <td>0.051082</td>\n",
       "      <td>0.025392</td>\n",
       "    </tr>\n",
       "    <tr>\n",
       "      <th>suicide_attack</th>\n",
       "      <td>1</td>\n",
       "      <td>[1]</td>\n",
       "      <td>0.002555</td>\n",
       "      <td>0.002555</td>\n",
       "      <td>0.001028</td>\n",
       "    </tr>\n",
       "    <tr>\n",
       "      <th>suicide_bomb</th>\n",
       "      <td>2</td>\n",
       "      <td>[1]</td>\n",
       "      <td>0.048581</td>\n",
       "      <td>0.048581</td>\n",
       "      <td>0.023540</td>\n",
       "    </tr>\n",
       "    <tr>\n",
       "      <th>unknown_perps</th>\n",
       "      <td>3</td>\n",
       "      <td>[0]</td>\n",
       "      <td>0.016104</td>\n",
       "      <td>0.001176</td>\n",
       "      <td>0.000041</td>\n",
       "    </tr>\n",
       "    <tr>\n",
       "      <th>no_responsibility</th>\n",
       "      <td>4</td>\n",
       "      <td>[0]</td>\n",
       "      <td>0.658203</td>\n",
       "      <td>0.026488</td>\n",
       "      <td>0.025352</td>\n",
       "    </tr>\n",
       "  </tbody>\n",
       "</table>\n",
       "</div>"
      ],
      "text/plain": [
       "                   j Polarity  Coverage  Overlaps  Conflicts\n",
       "suicide_mentioned  0  [1]      0.053678  0.051082  0.025392 \n",
       "suicide_attack     1  [1]      0.002555  0.002555  0.001028 \n",
       "suicide_bomb       2  [1]      0.048581  0.048581  0.023540 \n",
       "unknown_perps      3  [0]      0.016104  0.001176  0.000041 \n",
       "no_responsibility  4  [0]      0.658203  0.026488  0.025352 "
      ]
     },
     "execution_count": 18,
     "metadata": {},
     "output_type": "execute_result"
    }
   ],
   "source": [
    "from snorkel.labeling.analysis import LFAnalysis\n",
    "\n",
    "LFAnalysis(L=L_train, lfs=lfs).lf_summary()"
   ]
  },
  {
   "cell_type": "code",
   "execution_count": 19,
   "metadata": {},
   "outputs": [
    {
     "data": {
      "text/html": [
       "<div>\n",
       "<style scoped>\n",
       "    .dataframe tbody tr th:only-of-type {\n",
       "        vertical-align: middle;\n",
       "    }\n",
       "\n",
       "    .dataframe tbody tr th {\n",
       "        vertical-align: top;\n",
       "    }\n",
       "\n",
       "    .dataframe thead th {\n",
       "        text-align: right;\n",
       "    }\n",
       "</style>\n",
       "<table border=\"1\" class=\"dataframe\">\n",
       "  <thead>\n",
       "    <tr style=\"text-align: right;\">\n",
       "      <th></th>\n",
       "      <th>j</th>\n",
       "      <th>Polarity</th>\n",
       "      <th>Coverage</th>\n",
       "      <th>Overlaps</th>\n",
       "      <th>Conflicts</th>\n",
       "      <th>Correct</th>\n",
       "      <th>Incorrect</th>\n",
       "      <th>Emp. Acc.</th>\n",
       "    </tr>\n",
       "  </thead>\n",
       "  <tbody>\n",
       "    <tr>\n",
       "      <th>suicide_mentioned</th>\n",
       "      <td>0</td>\n",
       "      <td>[1]</td>\n",
       "      <td>0.053488</td>\n",
       "      <td>0.050676</td>\n",
       "      <td>0.025095</td>\n",
       "      <td>976</td>\n",
       "      <td>13</td>\n",
       "      <td>0.986855</td>\n",
       "    </tr>\n",
       "    <tr>\n",
       "      <th>suicide_attack</th>\n",
       "      <td>1</td>\n",
       "      <td>[1]</td>\n",
       "      <td>0.002975</td>\n",
       "      <td>0.002975</td>\n",
       "      <td>0.001136</td>\n",
       "      <td>54</td>\n",
       "      <td>1</td>\n",
       "      <td>0.981818</td>\n",
       "    </tr>\n",
       "    <tr>\n",
       "      <th>suicide_bomb</th>\n",
       "      <td>2</td>\n",
       "      <td>[1]</td>\n",
       "      <td>0.047918</td>\n",
       "      <td>0.047918</td>\n",
       "      <td>0.023148</td>\n",
       "      <td>880</td>\n",
       "      <td>6</td>\n",
       "      <td>0.993228</td>\n",
       "    </tr>\n",
       "    <tr>\n",
       "      <th>unknown_perps</th>\n",
       "      <td>3</td>\n",
       "      <td>[0]</td>\n",
       "      <td>0.016820</td>\n",
       "      <td>0.001731</td>\n",
       "      <td>0.000054</td>\n",
       "      <td>310</td>\n",
       "      <td>1</td>\n",
       "      <td>0.996785</td>\n",
       "    </tr>\n",
       "    <tr>\n",
       "      <th>no_responsibility</th>\n",
       "      <td>4</td>\n",
       "      <td>[0]</td>\n",
       "      <td>0.659221</td>\n",
       "      <td>0.026717</td>\n",
       "      <td>0.025041</td>\n",
       "      <td>11710</td>\n",
       "      <td>479</td>\n",
       "      <td>0.960702</td>\n",
       "    </tr>\n",
       "  </tbody>\n",
       "</table>\n",
       "</div>"
      ],
      "text/plain": [
       "                   j Polarity  Coverage  Overlaps  Conflicts  Correct  \\\n",
       "suicide_mentioned  0  [1]      0.053488  0.050676  0.025095   976       \n",
       "suicide_attack     1  [1]      0.002975  0.002975  0.001136   54        \n",
       "suicide_bomb       2  [1]      0.047918  0.047918  0.023148   880       \n",
       "unknown_perps      3  [0]      0.016820  0.001731  0.000054   310       \n",
       "no_responsibility  4  [0]      0.659221  0.026717  0.025041   11710     \n",
       "\n",
       "                   Incorrect  Emp. Acc.  \n",
       "suicide_mentioned  13         0.986855   \n",
       "suicide_attack     1          0.981818   \n",
       "suicide_bomb       6          0.993228   \n",
       "unknown_perps      1          0.996785   \n",
       "no_responsibility  479        0.960702   "
      ]
     },
     "execution_count": 19,
     "metadata": {},
     "output_type": "execute_result"
    }
   ],
   "source": [
    "#If you supply gold labels, snorkel calculates empirical accuracy for you!\n",
    "LFAnalysis(L=L_valid, lfs=lfs).lf_summary(Y=Y_valid)"
   ]
  },
  {
   "cell_type": "markdown",
   "metadata": {},
   "source": [
    "So in theory we should stop here, because LFs by themselves give good accuracy. Or, if the description says suicide bomber...it's probably a suicide bomber. But let's work through to the end for fun."
   ]
  },
  {
   "cell_type": "code",
   "execution_count": 20,
   "metadata": {},
   "outputs": [],
   "source": [
    "#First, let's try a simple majority vote approach\n",
    "from snorkel.labeling.model import MajorityLabelVoter"
   ]
  },
  {
   "cell_type": "code",
   "execution_count": 21,
   "metadata": {},
   "outputs": [
    {
     "data": {
      "text/plain": [
       "array([0, 1, 0, ..., 0, 0, 0])"
      ]
     },
     "execution_count": 21,
     "metadata": {},
     "output_type": "execute_result"
    }
   ],
   "source": [
    "majority_model = MajorityLabelVoter()\n",
    "Y_pred_train = majority_model.predict(L=L_train)\n",
    "Y_pred_train"
   ]
  },
  {
   "cell_type": "code",
   "execution_count": 22,
   "metadata": {},
   "outputs": [
    {
     "name": "stdout",
     "output_type": "stream",
     "text": [
      "Majority Vote Accuracy:   85.2%\n"
     ]
    }
   ],
   "source": [
    "majority_acc = majority_model.score(L=L_valid, Y=Y_valid)[\"accuracy\"]\n",
    "print(f\"{'Majority Vote Accuracy:':<25} {majority_acc * 100:.1f}%\")"
   ]
  },
  {
   "cell_type": "code",
   "execution_count": 23,
   "metadata": {},
   "outputs": [],
   "source": [
    "#Let's use snorkel's model for probabilistic labels and train a classifier \n",
    "from snorkel.labeling.model import LabelModel"
   ]
  },
  {
   "cell_type": "code",
   "execution_count": 24,
   "metadata": {},
   "outputs": [],
   "source": [
    "label_model = LabelModel(cardinality=2, verbose=True)\n",
    "label_model.fit(L_train=L_train, n_epochs=1000, lr=0.001, log_freq=100, seed=123)"
   ]
  },
  {
   "cell_type": "code",
   "execution_count": 25,
   "metadata": {},
   "outputs": [
    {
     "name": "stdout",
     "output_type": "stream",
     "text": [
      "Label Model Accuracy:     83.7%\n"
     ]
    }
   ],
   "source": [
    "label_model_acc = label_model.score(L=L_valid, Y=Y_valid)[\"accuracy\"]\n",
    "print(f\"{'Label Model Accuracy:':<25} {label_model_acc * 100:.1f}%\")"
   ]
  },
  {
   "cell_type": "markdown",
   "metadata": {},
   "source": [
    "Snorkel warns against using the label model: \n",
    "\n",
    ">it is typically not suitable as an inference-time model to make predictions for unseen examples, due to (among other things) some data points having all abstain labels. \n",
    "\n",
    "So let's train a quick bag of words model"
   ]
  },
  {
   "cell_type": "code",
   "execution_count": 26,
   "metadata": {},
   "outputs": [],
   "source": [
    "from sklearn.feature_extraction.text import CountVectorizer\n",
    "\n",
    "words_train = [row.summary for i, row in train.iterrows()]\n",
    "words_valid = [row.summary for i, row in valid.iterrows()]\n",
    "words_test = [row.summary for i, row in test.iterrows()]\n",
    "\n",
    "vectorizer = CountVectorizer(ngram_range=(1, 2))\n",
    "X_train = vectorizer.fit_transform(words_train)\n",
    "X_valid = vectorizer.transform(words_valid)\n",
    "X_test = vectorizer.transform(words_test)"
   ]
  },
  {
   "cell_type": "code",
   "execution_count": 27,
   "metadata": {},
   "outputs": [],
   "source": [
    "from sklearn.naive_bayes import MultinomialNB\n",
    "classifier = MultinomialNB().fit(X_train, Y_train)"
   ]
  },
  {
   "cell_type": "code",
   "execution_count": 28,
   "metadata": {},
   "outputs": [
    {
     "data": {
      "text/plain": [
       "0.9858953835503829"
      ]
     },
     "execution_count": 28,
     "metadata": {},
     "output_type": "execute_result"
    }
   ],
   "source": [
    "predicted = classifier.predict(X_test)\n",
    "np.mean(predicted == Y_test)            "
   ]
  },
  {
   "cell_type": "code",
   "execution_count": 29,
   "metadata": {},
   "outputs": [
    {
     "data": {
      "text/plain": [
       "0.9945052567818976"
      ]
     },
     "execution_count": 29,
     "metadata": {},
     "output_type": "execute_result"
    }
   ],
   "source": [
    "from sklearn.linear_model import SGDClassifier\n",
    "classifier = SGDClassifier().fit(X_train, Y_train)\n",
    "\n",
    "predicted = classifier.predict(X_test)\n",
    "np.mean(predicted == Y_test)"
   ]
  },
  {
   "cell_type": "code",
   "execution_count": null,
   "metadata": {},
   "outputs": [],
   "source": []
  },
  {
   "cell_type": "code",
   "execution_count": null,
   "metadata": {},
   "outputs": [],
   "source": []
  },
  {
   "cell_type": "code",
   "execution_count": null,
   "metadata": {},
   "outputs": [],
   "source": []
  },
  {
   "cell_type": "code",
   "execution_count": null,
   "metadata": {},
   "outputs": [],
   "source": []
  }
 ],
 "metadata": {
  "kernelspec": {
   "display_name": "Python 3",
   "language": "python",
   "name": "python3"
  },
  "language_info": {
   "codemirror_mode": {
    "name": "ipython",
    "version": 3
   },
   "file_extension": ".py",
   "mimetype": "text/x-python",
   "name": "python",
   "nbconvert_exporter": "python",
   "pygments_lexer": "ipython3",
   "version": "3.6.8"
  }
 },
 "nbformat": 4,
 "nbformat_minor": 2
}
