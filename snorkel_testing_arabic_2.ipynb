{
 "cells": [
  {
   "cell_type": "code",
   "execution_count": null,
   "metadata": {},
   "outputs": [],
   "source": []
  },
  {
   "cell_type": "code",
   "execution_count": 2,
   "metadata": {},
   "outputs": [],
   "source": [
    "import numpy as np\n",
    "import matplotlib.pyplot as plt\n",
    "import pandas as pd\n",
    "from tqdm import tqdm\n",
    "\n",
    "%matplotlib inline\n",
    "from IPython.core.pylabtools import figsize"
   ]
  },
  {
   "cell_type": "code",
   "execution_count": 1,
   "metadata": {},
   "outputs": [],
   "source": [
    "from snorkel.labeling.preprocess import preprocessor\n",
    "from snorkel.labeling.apply import PandasLFApplier\n",
    "from snorkel.labeling.lf import labeling_function\n",
    "from snorkel.types import DataPoint\n",
    "\n",
    "POS = 1\n",
    "NEG = -1\n",
    "ABSTAIN = 0"
   ]
  },
  {
   "cell_type": "code",
   "execution_count": 4,
   "metadata": {},
   "outputs": [
    {
     "data": {
      "text/plain": [
       "كرة_القدم                       4301\n",
       "الأزمة_السورية                 3160\n",
       "جماعات_مسلحة                    2142\n",
       "أسواق_النفط                    1364\n",
       "لاجئون                         1256\n",
       "رياضات_اخرى                     1100\n",
       "المعارضة_السورية                1002\n",
       "صواريخ                           741\n",
       "التقنية_والمعلومات               639\n",
       "فضاء                             630\n",
       "أسلحة_ومعدات_عسكرية             625\n",
       "الهجرة_إلى_أوروبا              616\n",
       "الأزمة_الأوكرانية              595\n",
       "اكتشافات                         577\n",
       "الأزمة_اليمنية                  566\n",
       "تفجيرات                          559\n",
       "مشاهير                           539\n",
       "البحوث_الطبية                    530\n",
       "معلومات_عامة                     484\n",
       "طائرات_حربية                    479\n",
       "الانتخابات_الأمريكية            447\n",
       "جرائم                           433\n",
       "مظاهرات                          422\n",
       "مؤشرات_اقتصادية                 400\n",
       "عقوبات_اقتصادية                  397\n",
       "الاعتراف_بدولة_فلسطين            369\n",
       "امراض                            323\n",
       "أولمبياد_ريو_دي_جانيرو_2016     314\n",
       "انقلاب_تركيا                     305\n",
       "عملية_تحرير_الموصل               294\n",
       "هجمات_باريس                      287\n",
       "مناورات_عسكرية                   256\n",
       "اتفاق_ايران_النووي               251\n",
       "السياحة_في_العالم                196\n",
       "البورصات                         186\n",
       "استفتاء_بريطانيا                 184\n",
       "علم_الآثار_والتاريخ             182\n",
       "كوارث_جوية                       177\n",
       "مخدرات                           175\n",
       "موسيقى                           167\n",
       "Name: category, dtype: int64"
      ]
     },
     "execution_count": 4,
     "metadata": {},
     "output_type": "execute_result"
    }
   ],
   "source": [
    "#Load in our cleaned data and re-check category labels\n",
    "media_df = pd.read_csv('/Users/awhite/Documents/snorkel/arabic_news_cleaned.csv')\n",
    "media_df.category.value_counts()"
   ]
  },
  {
   "cell_type": "markdown",
   "metadata": {},
   "source": [
    "There are several broad categories like جماعات_مسلحة (armed groups) and أسواق_النفط (oil markets), then more specific categories such as two for the Syrian conflict: الأزمة_السورية (Syrian conflict) and المعارضة_السورية (Syrian opposition). Let's start with one of the general categories, then more to Syria.  "
   ]
  },
  {
   "cell_type": "code",
   "execution_count": null,
   "metadata": {},
   "outputs": [],
   "source": [
    "@labeling_function\n",
    "def oil_terms(x):\n",
    "    if \"نفظ|برتول\" in x.text:\n",
    "        return POS\n",
    "    else:\n",
    "        return ABS"
   ]
  },
  {
   "cell_type": "code",
   "execution_count": null,
   "metadata": {},
   "outputs": [],
   "source": [
    "@labeling_function"
   ]
  },
  {
   "cell_type": "code",
   "execution_count": 7,
   "metadata": {},
   "outputs": [],
   "source": []
  },
  {
   "cell_type": "code",
   "execution_count": null,
   "metadata": {},
   "outputs": [],
   "source": []
  },
  {
   "cell_type": "code",
   "execution_count": null,
   "metadata": {},
   "outputs": [],
   "source": []
  },
  {
   "cell_type": "code",
   "execution_count": 5,
   "metadata": {},
   "outputs": [],
   "source": []
  }
 ],
 "metadata": {
  "kernelspec": {
   "display_name": "Python 3",
   "language": "python",
   "name": "python3"
  },
  "language_info": {
   "codemirror_mode": {
    "name": "ipython",
    "version": 3
   },
   "file_extension": ".py",
   "mimetype": "text/x-python",
   "name": "python",
   "nbconvert_exporter": "python",
   "pygments_lexer": "ipython3",
   "version": "3.6.8"
  }
 },
 "nbformat": 4,
 "nbformat_minor": 2
}
