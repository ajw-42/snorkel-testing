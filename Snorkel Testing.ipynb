{
 "cells": [
  {
   "cell_type": "markdown",
   "metadata": {},
   "source": [
    "Notes\n",
    "- I installed snorkel from the redux branch into an environment running Python 3.6 -- 3.5 and 3.7 both didn't work for me. Skimming the git issues seems to indicate this is going to be fixed.\n",
    "- Snorkel developers are working on a new release - so it may soon be better to install from master\n",
    "- For data, I'm starting with the version of the Global Terrorism Database on Kaggle (https://www.kaggle.com/START-UMD/gtd/) and hopefully moving toa webscraped dataset of Arabic-language RT articles labeled for news category (https://data.mendeley.com/datasets/322pzsdxwy/1)\n",
    "- These tutorials are helpful: https://github.com/HazyResearch/snorkel/tree/redux/tutorials/workshop. They use this dataset: https://www.dropbox.com/s/jmrvyaqew4zp9cy/spouse_data.zip."
   ]
  },
  {
   "cell_type": "code",
   "execution_count": 12,
   "metadata": {},
   "outputs": [],
   "source": [
    "import pandas as pd\n",
    "import snorkel\n",
    "\n",
    "from sklearn.model_selection import train_test_split"
   ]
  },
  {
   "cell_type": "code",
   "execution_count": null,
   "metadata": {},
   "outputs": [],
   "source": [
    "terror_df = pd.read_csv('/Users/awhite/Documents/globalterrorismdb_0718dist.csv',\n",
    "                       encoding = 'ISO-8859-1')"
   ]
  },
  {
   "cell_type": "code",
   "execution_count": 9,
   "metadata": {},
   "outputs": [
    {
     "data": {
      "text/plain": [
       "0                                                   NaN\n",
       "1                                                   NaN\n",
       "2                                                   NaN\n",
       "3                                                   NaN\n",
       "4                                                   NaN\n",
       "5     1/1/1970: Unknown African American assailants ...\n",
       "6                                                   NaN\n",
       "7     1/2/1970: Unknown perpetrators detonated explo...\n",
       "8     1/2/1970: Karl Armstrong, a member of the New ...\n",
       "9     1/3/1970: Karl Armstrong, a member of the New ...\n",
       "10                                                  NaN\n",
       "11    1/6/1970: Unknown perpetrators threw a Molotov...\n",
       "12                                                  NaN\n",
       "13    1/9/1970: Unknown perpetrators set off a fireb...\n",
       "14    1/9/1970:  The Armed Commandos of Liberation c...\n",
       "15                                                  NaN\n",
       "16                                                  NaN\n",
       "17    1/12/1970: Unknown perpetrators threw a pipe b...\n",
       "18    1/12/1970: Unknown perpetrators detonated a bo...\n",
       "19    1/13/1970: Unknown perpetrators firebombed Fus...\n",
       "Name: summary, dtype: object"
      ]
     },
     "execution_count": 9,
     "metadata": {},
     "output_type": "execute_result"
    }
   ],
   "source": [
    "terror_df.summary.head(20)"
   ]
  },
  {
   "cell_type": "code",
   "execution_count": null,
   "metadata": {},
   "outputs": [],
   "source": [
    "#drop items w no summary\n",
    "terror_df = terror_df.dropna(subset=['summary'])\n",
    "len(terror_df)"
   ]
  },
  {
   "cell_type": "code",
   "execution_count": 18,
   "metadata": {},
   "outputs": [],
   "source": [
    "train, test = train_test_split(terror_df, test_size = 0.2, random_state = 0)\n",
    "\n",
    "#snorkel calls for a separate development set\n",
    "development, train = train_test_split(train, test_size = 0.2, random_state = 0)"
   ]
  },
  {
   "cell_type": "code",
   "execution_count": 20,
   "metadata": {},
   "outputs": [
    {
     "data": {
      "text/plain": [
       "92449"
      ]
     },
     "execution_count": 20,
     "metadata": {},
     "output_type": "execute_result"
    }
   ],
   "source": [
    "len(train)"
   ]
  },
  {
   "cell_type": "markdown",
   "metadata": {},
   "source": [
    "Let's try to predict if an attack was a suicide attack - this seems easy."
   ]
  },
  {
   "cell_type": "code",
   "execution_count": 28,
   "metadata": {},
   "outputs": [
    {
     "data": {
      "text/plain": [
       "17427    11/11/1982: A suspected suicide car bomb deton...\n",
       "24745    4/9/1985: A 16-year-old girl drove a car laden...\n",
       "40835    12/06/1989: At 4:30 p.m. an assailant armed wi...\n",
       "44662    11/23/1990:  Two members of the Liberation Tig...\n",
       "46336    05/05/1991:  Approximately six members of the ...\n",
       "60995    11/24/1995:  Two female cadres of the Liberati...\n",
       "61066    12/08/1995: An assailant attacked Freddy's Fas...\n",
       "61097    11/11/1995: Two suicide bombers from the Liber...\n",
       "63771    10/25/1996:  Members of the Liberation Tigers ...\n",
       "65013    03/24/1997:  A flotilla of boats staffed by th...\n",
       "66914    10/19/1997:  A flotilla of approximately 20 sm...\n",
       "67476    12/18/1997: Three individuals believed to be f...\n",
       "67571    01/25/1998: Liberation Tigers of Tamil Eelam (...\n",
       "67578    01/26/1998: Three suicide bombers crashed a tr...\n",
       "67600    02/06/1998: A female suicide bomber blew herse...\n",
       "67661    02/23/1998: At least 46 soldiers and sailors w...\n",
       "67676    02/27/1998: One person died and another two we...\n",
       "67694    03/05/1998: A suicide bomber from the Liberati...\n",
       "67705    03/11/1998: The Liberation Tigers of Tamil Eel...\n",
       "67744    03/30/1998: HAMAS claimed responsibility for a...\n",
       "Name: summary, dtype: object"
      ]
     },
     "execution_count": 28,
     "metadata": {},
     "output_type": "execute_result"
    }
   ],
   "source": [
    "terror_df[terror_df.suicide == 1].summary.head(20)"
   ]
  },
  {
   "cell_type": "code",
   "execution_count": 21,
   "metadata": {},
   "outputs": [],
   "source": [
    "from snorkel.labeling.apply import PandasLFApplier\n",
    "from snorkel.labeling.lf import labeling_function\n",
    "from snorkel.types import DataPoint\n",
    "\n",
    "POS = 1\n",
    "NEG = -1 \n",
    "ABSTAIN = 0"
   ]
  },
  {
   "cell_type": "code",
   "execution_count": 40,
   "metadata": {},
   "outputs": [],
   "source": [
    "def suicide_mentioned(x):\n",
    "    return POS if x.summary.count('suicide') > 0 else ABSTAIN\n",
    "def suicide_attack(x):\n",
    "    return POS if x.summary.count('suicide car|suicide bomb|suicide attack') > 0 else NEG"
   ]
  },
  {
   "cell_type": "code",
   "execution_count": null,
   "metadata": {},
   "outputs": [],
   "source": [
    "applier = PandasLFApplier([suicide_mentioned,\n",
    "                          suicide_attack])\n",
    "L = applier.apply(terror_df)"
   ]
  },
  {
   "cell_type": "code",
   "execution_count": 41,
   "metadata": {},
   "outputs": [
    {
     "name": "stderr",
     "output_type": "stream",
     "text": [
      "\n",
      "\n",
      "\n",
      "  0%|          | 0/115562 [00:00<?, ?it/s]\u001b[A\u001b[A\u001b[A\n",
      "\n",
      "\n",
      "  0%|          | 1/115562 [00:01<47:36:20,  1.48s/it]\u001b[A\u001b[A\u001b[A\n",
      "\n",
      "\n",
      "  0%|          | 283/115562 [00:01<33:15:14,  1.04s/it]\u001b[A\u001b[A\u001b[A\n",
      "\n",
      "\n",
      "  1%|          | 1382/115562 [00:01<23:03:24,  1.38it/s]\u001b[A\u001b[A\u001b[A\n",
      "\n",
      "\n",
      "  2%|▏         | 2456/115562 [00:02<15:59:19,  1.97it/s]\u001b[A\u001b[A\u001b[A\n",
      "\n",
      "\n",
      "  3%|▎         | 3484/115562 [00:02<11:05:29,  2.81it/s]\u001b[A\u001b[A\u001b[A\n",
      "\n",
      "\n",
      "  4%|▍         | 4695/115562 [00:02<7:40:51,  4.01it/s] \u001b[A\u001b[A\u001b[A\n",
      "\n",
      "\n",
      "  5%|▌         | 6251/115562 [00:02<5:18:06,  5.73it/s]\u001b[A\u001b[A\u001b[A\n",
      "\n",
      "\n",
      "  7%|▋         | 7859/115562 [00:02<3:39:25,  8.18it/s]\u001b[A\u001b[A\u001b[A\n",
      "\n",
      "\n",
      "  8%|▊         | 9361/115562 [00:02<2:31:29, 11.68it/s]\u001b[A\u001b[A\u001b[A\n",
      "\n",
      "\n",
      "  9%|▉         | 10864/115562 [00:02<1:44:34, 16.69it/s]\u001b[A\u001b[A\u001b[A\n",
      "\n",
      "\n",
      " 11%|█         | 12542/115562 [00:02<1:12:03, 23.83it/s]\u001b[A\u001b[A\u001b[A\n",
      "\n",
      "\n",
      " 12%|█▏        | 14222/115562 [00:02<49:39, 34.02it/s]  \u001b[A\u001b[A\u001b[A\n",
      "\n",
      "\n",
      " 14%|█▎        | 15853/115562 [00:02<34:13, 48.55it/s]\u001b[A\u001b[A\u001b[A\n",
      "\n",
      "\n",
      " 15%|█▌        | 17411/115562 [00:03<23:37, 69.26it/s]\u001b[A\u001b[A\u001b[A\n",
      "\n",
      "\n",
      " 16%|█▋        | 18956/115562 [00:03<16:25, 98.03it/s]\u001b[A\u001b[A\u001b[A\n",
      "\n",
      "\n",
      " 18%|█▊        | 20545/115562 [00:03<11:20, 139.68it/s]\u001b[A\u001b[A\u001b[A\n",
      "\n",
      "\n",
      " 19%|█▉        | 22142/115562 [00:03<07:49, 198.79it/s]\u001b[A\u001b[A\u001b[A\n",
      "\n",
      "\n",
      " 21%|██        | 23893/115562 [00:03<05:24, 282.61it/s]\u001b[A\u001b[A\u001b[A\n",
      "\n",
      "\n",
      " 22%|██▏       | 25391/115562 [00:03<03:45, 400.15it/s]\u001b[A\u001b[A\u001b[A\n",
      "\n",
      "\n",
      " 23%|██▎       | 27109/115562 [00:04<02:36, 565.99it/s]\u001b[A\u001b[A\u001b[A\n",
      "\n",
      "\n",
      " 25%|██▍       | 28846/115562 [00:04<01:48, 797.42it/s]\u001b[A\u001b[A\u001b[A\n",
      "\n",
      "\n",
      " 26%|██▋       | 30558/115562 [00:04<01:16, 1116.87it/s]\u001b[A\u001b[A\u001b[A\n",
      "\n",
      "\n",
      " 28%|██▊       | 32213/115562 [00:04<00:53, 1550.66it/s]\u001b[A\u001b[A\u001b[A\n",
      "\n",
      "\n",
      " 29%|██▉       | 33998/115562 [00:04<00:38, 2135.70it/s]\u001b[A\u001b[A\u001b[A\n",
      "\n",
      "\n",
      " 31%|███       | 35713/115562 [00:04<00:27, 2896.39it/s]\u001b[A\u001b[A\u001b[A\n",
      "\n",
      "\n",
      " 32%|███▏      | 37421/115562 [00:04<00:20, 3857.34it/s]\u001b[A\u001b[A\u001b[A\n",
      "\n",
      "\n",
      " 34%|███▍      | 39118/115562 [00:04<00:15, 4957.18it/s]\u001b[A\u001b[A\u001b[A\n",
      "\n",
      "\n",
      " 35%|███▌      | 40750/115562 [00:04<00:12, 5898.25it/s]\u001b[A\u001b[A\u001b[A\n",
      "\n",
      "\n",
      " 37%|███▋      | 42456/115562 [00:04<00:09, 7338.23it/s]\u001b[A\u001b[A\u001b[A\n",
      "\n",
      "\n",
      " 38%|███▊      | 44166/115562 [00:05<00:08, 8854.20it/s]\u001b[A\u001b[A\u001b[A\n",
      "\n",
      "\n",
      " 40%|███▉      | 45983/115562 [00:05<00:06, 10462.96it/s]\u001b[A\u001b[A\u001b[A\n",
      "\n",
      "\n",
      " 41%|████▏     | 47722/115562 [00:05<00:05, 11882.20it/s]\u001b[A\u001b[A\u001b[A\n",
      "\n",
      "\n",
      " 43%|████▎     | 49403/115562 [00:05<00:05, 13019.21it/s]\u001b[A\u001b[A\u001b[A\n",
      "\n",
      "\n",
      " 44%|████▍     | 51114/115562 [00:05<00:04, 14024.25it/s]\u001b[A\u001b[A\u001b[A\n",
      "\n",
      "\n",
      " 46%|████▌     | 52803/115562 [00:05<00:04, 14719.83it/s]\u001b[A\u001b[A\u001b[A\n",
      "\n",
      "\n",
      " 47%|████▋     | 54485/115562 [00:05<00:04, 15018.98it/s]\u001b[A\u001b[A\u001b[A\n",
      "\n",
      "\n",
      " 49%|████▊     | 56135/115562 [00:05<00:04, 13439.18it/s]\u001b[A\u001b[A\u001b[A\n",
      "\n",
      "\n",
      " 50%|█████     | 57902/115562 [00:05<00:03, 14477.66it/s]\u001b[A\u001b[A\u001b[A\n",
      "\n",
      "\n",
      " 52%|█████▏    | 59625/115562 [00:06<00:03, 15205.31it/s]\u001b[A\u001b[A\u001b[A\n",
      "\n",
      "\n",
      " 53%|█████▎    | 61238/115562 [00:06<00:03, 15075.04it/s]\u001b[A\u001b[A\u001b[A\n",
      "\n",
      "\n",
      " 54%|█████▍    | 62920/115562 [00:06<00:03, 15558.63it/s]\u001b[A\u001b[A\u001b[A\n",
      "\n",
      "\n",
      " 56%|█████▌    | 64757/115562 [00:06<00:03, 16304.90it/s]\u001b[A\u001b[A\u001b[A\n",
      "\n",
      "\n",
      " 58%|█████▊    | 66498/115562 [00:06<00:02, 16619.89it/s]\u001b[A\u001b[A\u001b[A\n",
      "\n",
      "\n",
      " 59%|█████▉    | 68193/115562 [00:06<00:02, 15910.99it/s]\u001b[A\u001b[A\u001b[A\n",
      "\n",
      "\n",
      " 60%|██████    | 69813/115562 [00:06<00:03, 13788.61it/s]\u001b[A\u001b[A\u001b[A\n",
      "\n",
      "\n",
      " 62%|██████▏   | 71263/115562 [00:06<00:03, 12686.75it/s]\u001b[A\u001b[A\u001b[A\n",
      "\n",
      "\n",
      " 63%|██████▎   | 72942/115562 [00:06<00:03, 13690.08it/s]\u001b[A\u001b[A\u001b[A\n",
      "\n",
      "\n",
      " 65%|██████▍   | 74562/115562 [00:07<00:02, 14356.88it/s]\u001b[A\u001b[A\u001b[A\n",
      "\n",
      "\n",
      " 66%|██████▌   | 76350/115562 [00:07<00:02, 15257.47it/s]\u001b[A\u001b[A\u001b[A\n",
      "\n",
      "\n",
      " 68%|██████▊   | 78149/115562 [00:07<00:02, 15985.78it/s]\u001b[A\u001b[A\u001b[A\n",
      "\n",
      "\n",
      " 69%|██████▉   | 79889/115562 [00:07<00:02, 16384.14it/s]\u001b[A\u001b[A\u001b[A\n",
      "\n",
      "\n",
      " 71%|███████   | 81645/115562 [00:07<00:02, 16718.40it/s]\u001b[A\u001b[A\u001b[A\n",
      "\n",
      "\n",
      " 72%|███████▏  | 83344/115562 [00:07<00:02, 15023.07it/s]\u001b[A\u001b[A\u001b[A\n",
      "\n",
      "\n",
      " 74%|███████▎  | 84940/115562 [00:07<00:02, 15291.47it/s]\u001b[A\u001b[A\u001b[A\n",
      "\n",
      "\n",
      " 75%|███████▍  | 86507/115562 [00:07<00:01, 15131.57it/s]\u001b[A\u001b[A\u001b[A\n",
      "\n",
      "\n",
      " 76%|███████▌  | 88047/115562 [00:07<00:01, 14698.68it/s]\u001b[A\u001b[A\u001b[A\n",
      "\n",
      "\n",
      " 78%|███████▊  | 89703/115562 [00:08<00:01, 15208.88it/s]\u001b[A\u001b[A\u001b[A\n",
      "\n",
      "\n",
      " 79%|███████▉  | 91398/115562 [00:08<00:01, 15692.46it/s]\u001b[A\u001b[A\u001b[A\n",
      "\n",
      "\n",
      " 81%|████████  | 93032/115562 [00:08<00:01, 15880.52it/s]\u001b[A\u001b[A\u001b[A\n",
      "\n",
      "\n",
      " 82%|████████▏ | 94705/115562 [00:08<00:01, 16125.28it/s]\u001b[A\u001b[A\u001b[A\n",
      "\n",
      "\n",
      " 83%|████████▎ | 96328/115562 [00:08<00:01, 15351.37it/s]\u001b[A\u001b[A\u001b[A\n",
      "\n",
      "\n",
      " 85%|████████▍ | 97878/115562 [00:08<00:01, 15243.71it/s]\u001b[A\u001b[A\u001b[A\n",
      "\n",
      "\n",
      " 86%|████████▌ | 99472/115562 [00:08<00:01, 15443.91it/s]\u001b[A\u001b[A\u001b[A\n",
      "\n",
      "\n",
      " 87%|████████▋ | 101110/115562 [00:08<00:00, 15709.48it/s]\u001b[A\u001b[A\u001b[A\n",
      "\n",
      "\n",
      " 89%|████████▉ | 102689/115562 [00:08<00:00, 15732.18it/s]\u001b[A\u001b[A\u001b[A\n",
      "\n",
      "\n",
      " 90%|█████████ | 104267/115562 [00:08<00:00, 15743.05it/s]\u001b[A\u001b[A\u001b[A\n",
      "\n",
      "\n",
      " 92%|█████████▏| 105889/115562 [00:09<00:00, 15881.16it/s]\u001b[A\u001b[A\u001b[A\n",
      "\n",
      "\n",
      " 93%|█████████▎| 107553/115562 [00:09<00:00, 16099.66it/s]\u001b[A\u001b[A\u001b[A\n",
      "\n",
      "\n",
      " 94%|█████████▍| 109166/115562 [00:09<00:00, 16017.33it/s]\u001b[A\u001b[A\u001b[A\n",
      "\n",
      "\n",
      " 96%|█████████▌| 110770/115562 [00:09<00:00, 15887.99it/s]\u001b[A\u001b[A\u001b[A\n",
      "\n",
      "\n",
      " 97%|█████████▋| 112452/115562 [00:09<00:00, 16156.24it/s]\u001b[A\u001b[A\u001b[A\n",
      "\n",
      "\n",
      " 99%|█████████▊| 114091/115562 [00:09<00:00, 16224.75it/s]\u001b[A\u001b[A\u001b[A\n",
      "\n",
      "\n",
      "100%|██████████| 115562/115562 [00:09<00:00, 11624.00it/s]\u001b[A\u001b[A\u001b[A"
     ]
    }
   ],
   "source": [
    "from snorkel.model.metrics import coverage_score, f1_score, precision_score, recall_score\n",
    "\n",
    "print(\"Coverage: \\t\", coverage_score(dev_labels,L[:,0]))\n",
    "print(\"F1 score:  \\t\", f1_score(dev_labels,L[:,0]))\n",
    "print(\"Precision:  \\t\", precision_score(dev_labels,L[:,0]))\n",
    "print(\"Recall:  \\t\", recall_score(dev_labels,L[:,0]))"
   ]
  }
 ],
 "metadata": {
  "kernelspec": {
   "display_name": "Python 3",
   "language": "python",
   "name": "python3"
  },
  "language_info": {
   "codemirror_mode": {
    "name": "ipython",
    "version": 3
   },
   "file_extension": ".py",
   "mimetype": "text/x-python",
   "name": "python",
   "nbconvert_exporter": "python",
   "pygments_lexer": "ipython3",
   "version": "3.6.8"
  }
 },
 "nbformat": 4,
 "nbformat_minor": 2
}
